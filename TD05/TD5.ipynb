{
 "cells": [
  {
   "cell_type": "markdown",
   "metadata": {},
   "source": [
    "# MTH3302 : Méthodes probabilistes et statistiques pour l'I.A.\n",
    "\n",
    "Jonathan Jalbert<br/>\n",
    "Professeur agrégé au Département de mathématiques et de génie industriel<br/>\n",
    "Polytechnique Montréal<br/>\n",
    "\n",
    "## TD5 : Régression logistique pour prédire la survie des passagers du Titanic\n",
    "\n",
    "Pour ce concours, vous aurez accès aux caractéristiques des passagers du Titanic\n",
    "\n",
    "La liste des passagers a été scindé en deux groupes : un groupe d'entraînement (*Train.csv*) et un groupe de test (*Test.csv*). Les membres d'équipages sont ignorés. Le jeu de données d'entraînement doit être utilisé pour estimer les paramètres d'un modèle de régression logistique. Vous devrez trouver le meilleur modèle possible en faisant un choix judicieux des variables explicatives. Par la suite, votre modèle servira à prédire le sort des passagers de la liste de test.\n",
    "\n",
    "L'ensemble d'entraînement contient les informations de 872 passagers et leur sort (décès ou survie).\n",
    "\n",
    "L'ensemble de test contient seulement les informations de 437 passagers. Vous devez prédire pour chacun d'eux s'ils ont survécu ou non au naufrage.\n",
    "\n",
    "Avant d'exécuter ce code, vous devrez récupérer les informations sur les passagers du Titatnic déjà partitionnées en échantillon d'apprentissage et de test. Vous modèles pourront être entraînés sur les données *Train.csv* disponible sur la page GitHub du cours. Vos prédictions seront par la suite comparées au sort des passager de l'échantillon de test. Vous devrez déposer voter fichier de prédictions sur la [page Kaggle du TD5](https://www.kaggle.com/t/675fd21fa174447cb7f43a9a6016f281).\n",
    "\n",
    "Dans ce code de base, on n'utilisera que la classe du passager pour prédire sont sort. **L'objectif de ce TD est d'améliorer le taux de bonnes prédictions en ajoutant des variables explicatives significatives.**\n",
    "\n",
    "\n",
    "### Sommaire:\n",
    "___\n",
    "\n",
    "1. **[Chargement des données de l'ensemble d'entraînement](#section_1)**   \n",
    "2. **[Analyse exploratoire](#section_2)**  \n",
    "3. **[Modèle de régression logistique](#section_3)**\n",
    "4. **[Prédiction de la survie des passagers de l'ensemble de test](#section_4)**\n",
    "    1. Chargement des données de l'ensemble de test\n",
    "    2. Estimation de la probabilité de survie de chacun des passagers de l'ensemble de test\n",
    "    3. Prédiction de la survie des passagers de l'ensemble de test\n",
    "    4. Préparation du fichier des préditions pour téléverser sur Kaggle\n"
   ]
  },
  {
   "cell_type": "code",
   "execution_count": null,
   "metadata": {},
   "outputs": [],
   "source": [
    "# Chargement des librairies nécessaires\n",
    "using CSV, DataFrames, Gadfly, GLM, Distributions, LinearAlgebra"
   ]
  },
  {
   "cell_type": "markdown",
   "metadata": {},
   "source": [
    "---\n",
    "<a id=\"section_1\"></a>\n",
    "## 1. Chargement et traitement des données\n"
   ]
  },
  {
   "cell_type": "code",
   "execution_count": null,
   "metadata": {},
   "outputs": [],
   "source": [
    "data = CSV.read(\"Train.csv\", DataFrame)\n",
    "\n",
    "# Conversion en String pour que GLM considère la classe comme une variable qualitative\n",
    "data[!, :Pclass] = string.(data[:, :Pclass])  \n",
    "\n",
    "first(data,5)"
   ]
  },
  {
   "cell_type": "markdown",
   "metadata": {},
   "source": [
    "---\n",
    "<a id=\"section_2\"></a>\n",
    "## 2. Analyse exploratoire\n",
    "\n",
    "On souhaite vérifier s'il existe une relation entre la classe des passagers et leur taux de survie."
   ]
  },
  {
   "cell_type": "code",
   "execution_count": null,
   "metadata": {},
   "outputs": [],
   "source": [
    "df = combine(groupby(data, :Pclass), :Survived => mean => Symbol(\"Taux de survie\"))\n",
    "\n",
    "# Permutation des colonnes pour mettre les classes dans le bon ordre pour le graphique\n",
    "df = df[[1;3;2], :]  \n",
    "\n",
    "set_default_plot_size(10cm, 8cm)\n",
    "plot(df, x=:Pclass, y=Symbol(\"Taux de survie\"), Geom.bar)"
   ]
  },
  {
   "cell_type": "code",
   "execution_count": null,
   "metadata": {},
   "outputs": [],
   "source": [
    "df = combine(groupby(data, :Sex), :Survived => mean => Symbol(\"Taux de survie\"))\n",
    "\n",
    "set_default_plot_size(10cm, 8cm)\n",
    "plot(df, x=:Sex, y=Symbol(\"Taux de survie\"), Geom.bar)"
   ]
  },
  {
   "cell_type": "markdown",
   "metadata": {},
   "source": [
    "---\n",
    "<a id=\"section_3\"></a>\n",
    "## 3. Modèle de régression logistique \n",
    "\n",
    "La classe des passagers est utilisée comme variable explicative de la probabilité de survie. La fonction de lien logit est utlisée."
   ]
  },
  {
   "cell_type": "code",
   "execution_count": null,
   "metadata": {},
   "outputs": [],
   "source": [
    "M = glm(@formula(Survived ~ Pclass), data,  Bernoulli(), LogitLink())"
   ]
  },
  {
   "cell_type": "markdown",
   "metadata": {},
   "source": [
    "---\n",
    "<a id=\"section_4\"></a>\n",
    "## 4. Prédiction de la survie des passagers de l'ensemble de test"
   ]
  },
  {
   "cell_type": "markdown",
   "metadata": {},
   "source": [
    "### 4.1 Chargement des données de l'ensemble de test"
   ]
  },
  {
   "cell_type": "code",
   "execution_count": null,
   "metadata": {},
   "outputs": [],
   "source": [
    "# Charger le jeu de données de test\n",
    "test = CSV.read(\"Test.csv\", DataFrame);\n",
    "\n",
    "# Conversion en String pour que GLM considère la classe comme une variable qualitative\n",
    "test[!, :Pclass] = string.(test[:, :Pclass]);  "
   ]
  },
  {
   "cell_type": "markdown",
   "metadata": {},
   "source": [
    "### 4.2 Estimation de la probabilité de survie de chacun des passagers de l'ensemble de test"
   ]
  },
  {
   "cell_type": "code",
   "execution_count": null,
   "metadata": {},
   "outputs": [],
   "source": [
    "θ̂ = predict(M, test) "
   ]
  },
  {
   "cell_type": "markdown",
   "metadata": {},
   "source": [
    "### 4.3 Prédiction de la survie des passagers de l'ensemble de test"
   ]
  },
  {
   "cell_type": "code",
   "execution_count": null,
   "metadata": {},
   "outputs": [],
   "source": [
    "# Prédiction de la survie pour chacun des passagers de l'échantillon de test\n",
    "Ŷ = zeros(Int64, size(test,1))\n",
    "Ŷ[θ̂.>.5] .= 1;"
   ]
  },
  {
   "cell_type": "markdown",
   "metadata": {},
   "source": [
    "### 4.4 Préparation du fichier des préditions pour téléverser sur Kaggle"
   ]
  },
  {
   "cell_type": "code",
   "execution_count": null,
   "metadata": {},
   "outputs": [],
   "source": [
    "# Enregistrement dans un fichier CSV pour soumission sur Kaggle\n",
    "# Première colonne : identifiant des passagers\n",
    "# Deuxième colonne : survie = 1, décès = 0 (nombres entiers)\n",
    "\n",
    "prediction = DataFrame(PassengerId = test[:,:PassengerId], Survived = Ŷ)\n",
    "CSV.write(\"benchmark_predictions.csv\", prediction)"
   ]
  }
 ],
 "metadata": {
  "@webio": {
   "lastCommId": null,
   "lastKernelId": null
  },
  "hide_input": false,
  "kernelspec": {
   "display_name": "Julia 1.10.4",
   "language": "julia",
   "name": "julia-1.10"
  },
  "language_info": {
   "file_extension": ".jl",
   "mimetype": "application/julia",
   "name": "julia",
   "version": "1.10.4"
  }
 },
 "nbformat": 4,
 "nbformat_minor": 4
}
